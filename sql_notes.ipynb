{
 "cells": [
  {
   "cell_type": "markdown",
   "id": "99b1535e",
   "metadata": {},
   "source": [
    "login:\n",
    "\n",
    "quintela_2238\n",
    "\n",
    "NFPN0ZOmexizDuJnhrTgOoXRvw0y5jvZ"
   ]
  },
  {
   "cell_type": "code",
   "execution_count": null,
   "id": "83c8b06e",
   "metadata": {},
   "outputs": [],
   "source": []
  }
 ],
 "metadata": {
  "kernelspec": {
   "display_name": "Python 3 (ipykernel)",
   "language": "python",
   "name": "python3"
  },
  "language_info": {
   "codemirror_mode": {
    "name": "ipython",
    "version": 3
   },
   "file_extension": ".py",
   "mimetype": "text/x-python",
   "name": "python",
   "nbconvert_exporter": "python",
   "pygments_lexer": "ipython3",
   "version": "3.9.12"
  }
 },
 "nbformat": 4,
 "nbformat_minor": 5
}
